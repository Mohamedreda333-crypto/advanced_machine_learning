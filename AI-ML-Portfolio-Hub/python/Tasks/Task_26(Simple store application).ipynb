{
 "cells": [
  {
   "cell_type": "code",
   "execution_count": null,
   "id": "aef3a9eb-a870-4a3c-8765-476811fa78fe",
   "metadata": {},
   "outputs": [],
   "source": [
    "# Name: Mohamed Reda Ramadan Khamis \n",
    "# Phone Number : 01554725661"
   ]
  },
  {
   "cell_type": "code",
   "execution_count": 3,
   "id": "f42d718c-c7dd-4485-9771-73a62a902458",
   "metadata": {},
   "outputs": [
    {
     "name": "stdout",
     "output_type": "stream",
     "text": [
      "Collecting prettytable\n",
      "  Downloading prettytable-3.16.0-py3-none-any.whl.metadata (33 kB)\n",
      "Requirement already satisfied: wcwidth in c:\\users\\pc\\anaconda3\\lib\\site-packages (from prettytable) (0.2.5)\n",
      "Downloading prettytable-3.16.0-py3-none-any.whl (33 kB)\n",
      "Installing collected packages: prettytable\n",
      "Successfully installed prettytable-3.16.0\n"
     ]
    }
   ],
   "source": [
    "!pip install prettytable"
   ]
  },
  {
   "cell_type": "code",
   "execution_count": 1,
   "id": "9e23e021-03c4-40a5-ac5c-6e4f7081a646",
   "metadata": {},
   "outputs": [
    {
     "name": "stdout",
     "output_type": "stream",
     "text": [
      "Please enter username:  Mohamed\n",
      "please enter your password:  1111\n"
     ]
    },
    {
     "name": "stdout",
     "output_type": "stream",
     "text": [
      "verfication code is:  35168\n"
     ]
    },
    {
     "name": "stdout",
     "output_type": "stream",
     "text": [
      "please enter the verfication code:  35168\n"
     ]
    },
    {
     "name": "stdout",
     "output_type": "stream",
     "text": [
      "welcome to our application\n"
     ]
    }
   ],
   "source": [
    "# store application\n",
    "import random\n",
    "from prettytable import PrettyTable\n",
    "\n",
    "user_name = 'Mohamed'\n",
    "password = '1111'\n",
    "\n",
    "while True:\n",
    "    Enter_name = input('Please enter username: ')\n",
    "    if Enter_name == user_name:\n",
    "        pass_ = input('please enter your password: ')\n",
    "        if pass_ == password:\n",
    "            s = random.randrange(1000,100000)\n",
    "            print(\"verfication code is: \",s)\n",
    "            while True:\n",
    "                i = int(input(\"please enter the verfication code: \"))\n",
    "                if i == s:\n",
    "                    print(\"welcome to our application\")\n",
    "                    break\n",
    "                else:\n",
    "                    print(\"invalid verfication code,try again.\")\n",
    "            break\n",
    "        else:\n",
    "            print(\"invalid password , try again\")\n",
    "    else:\n",
    "        print(\"invalid username , try again\")"
   ]
  },
  {
   "cell_type": "code",
   "execution_count": 2,
   "id": "5d6a6f5c-ed1a-4785-a8bb-644aee7592ab",
   "metadata": {},
   "outputs": [
    {
     "name": "stdout",
     "output_type": "stream",
     "text": [
      "+-------+-------+----------+\n",
      "|  name | price | quantity |\n",
      "+-------+-------+----------+\n",
      "| water |  80.0 |   1200   |\n",
      "|  soda |  30.0 |   1000   |\n",
      "| chips |  75.0 |   800    |\n",
      "| bread |  80.0 |   100    |\n",
      "|  eggs | 200.0 |   1100   |\n",
      "+-------+-------+----------+\n"
     ]
    }
   ],
   "source": [
    "products = [{\"name\":\"water\",\"price\":80.0,\"Quantity\":1200},\n",
    "           {\"name\":\"soda\",\"price\":30.0,\"Quantity\":1000},\n",
    "           {\"name\":\"chips\",\"price\":75.0,\"Quantity\":800},\n",
    "           {\"name\":\"bread\",\"price\":80.0,\"Quantity\":100},\n",
    "           {\"name\":\"eggs\",\"price\":200.0,\"Quantity\":1100}]\n",
    "\n",
    "table = PrettyTable()\n",
    "table.field_names = ['name','price','quantity']\n",
    "for product in products:\n",
    "    table.add_row([product['name'],product['price'],product['Quantity']])\n",
    "\n",
    "print(table)"
   ]
  },
  {
   "cell_type": "code",
   "execution_count": 3,
   "id": "2fa9d87f-7a59-44a8-9ba3-b643388cfdd8",
   "metadata": {},
   "outputs": [
    {
     "name": "stdout",
     "output_type": "stream",
     "text": [
      "Enter Product Name:  soda\n",
      "Please enter quantity:  500\n"
     ]
    },
    {
     "name": "stdout",
     "output_type": "stream",
     "text": [
      "Total Price: $ 14250.0\n"
     ]
    },
    {
     "name": "stdout",
     "output_type": "stream",
     "text": [
      "Do you want to add another item? (yes/no):  no\n"
     ]
    }
   ],
   "source": [
    "while True:\n",
    "    product_name = input(\"Enter Product Name: \").lower()\n",
    "\n",
    "    if product_name not in map(lambda x: x[\"name\"].lower(), products):\n",
    "        print(\"Product not found in table, Please enter a valid product\")\n",
    "        continue\n",
    "\n",
    "    quantity_required = int(input(\"Please enter quantity: \"))\n",
    "    product = next(p for p in products if p[\"name\"].lower() == product_name)\n",
    "\n",
    "    if quantity_required > product[\"Quantity\"]:\n",
    "        print(\"Insufficient quantity, Please enter a new quantity\")\n",
    "        continue\n",
    "\n",
    "    discount = 0.05\n",
    "    total_price = quantity_required * product[\"price\"] * (1 - discount)\n",
    "    print(f\"Total Price: $ {total_price}\")\n",
    "\n",
    "    another_item = input(\"Do you want to add another item? (yes/no): \")\n",
    "    if another_item.lower() != \"yes\":\n",
    "        break"
   ]
  }
 ],
 "metadata": {
  "kernelspec": {
   "display_name": "Python 3 (ipykernel)",
   "language": "python",
   "name": "python3"
  },
  "language_info": {
   "codemirror_mode": {
    "name": "ipython",
    "version": 3
   },
   "file_extension": ".py",
   "mimetype": "text/x-python",
   "name": "python",
   "nbconvert_exporter": "python",
   "pygments_lexer": "ipython3",
   "version": "3.13.5"
  }
 },
 "nbformat": 4,
 "nbformat_minor": 5
}
